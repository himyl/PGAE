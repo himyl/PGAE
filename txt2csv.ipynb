{
 "cells": [
  {
   "cell_type": "code",
   "execution_count": 2,
   "metadata": {},
   "outputs": [],
   "source": [
    "import pandas as pd\n",
    "\n",
    "def f(txt_name, print_line=1):\n",
    "    with open(txt_name, 'r') as f:\n",
    "        log = f.read() \n",
    "    log_lines = log.split(\"\\n\")\n",
    "    log_lines = [x.split(\",\") for x in log_lines if \"ACC\" in x]\n",
    "    log_lines = [[y.strip() for y in x] for x in log_lines]\n",
    "    log_lines = [[y for y in x if len(y) > 0] for x in log_lines]\n",
    "\n",
    "    for i in range(len(log_lines)):\n",
    "        for j in range(len(log_lines[i])):\n",
    "            log_lines[i][j] = float(log_lines[i][j].split(\"=\")[1])\n",
    "    columns = [\"Acc\", \"F1-ma\", \"Prec-ma\", \"Recall-ma\", \"F1-mi\", \"Prec-mi\", \"Recall-mi\", \"NMI\", \"ARI\"]\n",
    "    df = pd.DataFrame(log_lines, columns=columns)\n",
    "    df = df.loc[:, [\"Acc\", \"NMI\", \"F1-ma\", \"F1-mi\", \"Prec-ma\", \"Prec-mi\", \"ARI\", \"Recall-ma\", \"Recall-mi\"]]\n",
    "    print(txt_name)\n",
    "    df['sum'] = df.sum(axis=1)\n",
    "    df = df.sort_values(by=\"Acc\", ascending=False)\n",
    "    if print_line > 0:\n",
    "        print(df.head(print_line))\n",
    "    return df.head(print_line)"
   ]
  },
  {
   "cell_type": "code",
   "execution_count": 3,
   "metadata": {},
   "outputs": [
    {
     "name": "stdout",
     "output_type": "stream",
     "text": [
      "../clf_result/training_metric_vae_cora_alpha0.01_epoch70.csv\n",
      "Empty DataFrame\n",
      "Columns: [Acc, NMI, F1-ma, F1-mi, Prec-ma, Prec-mi, ARI, Recall-ma, Recall-mi, sum]\n",
      "Index: []\n",
      "../clf_result/training_metric_vae_cora_alpha0.08_epoch70.csv\n",
      "Empty DataFrame\n",
      "Columns: [Acc, NMI, F1-ma, F1-mi, Prec-ma, Prec-mi, ARI, Recall-ma, Recall-mi, sum]\n",
      "Index: []\n",
      "../clf_result/training_metric_vae_cora_alpha0.1_epoch70.csv\n",
      "Empty DataFrame\n",
      "Columns: [Acc, NMI, F1-ma, F1-mi, Prec-ma, Prec-mi, ARI, Recall-ma, Recall-mi, sum]\n",
      "Index: []\n",
      "../clf_result/training_metric_vae_cora_alpha0.04_epoch70.csv\n",
      "Empty DataFrame\n",
      "Columns: [Acc, NMI, F1-ma, F1-mi, Prec-ma, Prec-mi, ARI, Recall-ma, Recall-mi, sum]\n",
      "Index: []\n",
      "../clf_result/training_metric_vae_cora_alpha0.0_epoch50.csv\n",
      "Empty DataFrame\n",
      "Columns: [Acc, NMI, F1-ma, F1-mi, Prec-ma, Prec-mi, ARI, Recall-ma, Recall-mi, sum]\n",
      "Index: []\n",
      "../clf_result/training_metric_vae_cora_alpha0.2_epoch70.csv\n",
      "Empty DataFrame\n",
      "Columns: [Acc, NMI, F1-ma, F1-mi, Prec-ma, Prec-mi, ARI, Recall-ma, Recall-mi, sum]\n",
      "Index: []\n",
      "../clf_result/training_metric_vae_cora_alpha0.02_epoch70.csv\n",
      "Empty DataFrame\n",
      "Columns: [Acc, NMI, F1-ma, F1-mi, Prec-ma, Prec-mi, ARI, Recall-ma, Recall-mi, sum]\n",
      "Index: []\n",
      "../clf_result/training_metric_vae_cora_alpha0.06_epoch74.csv\n",
      "Empty DataFrame\n",
      "Columns: [Acc, NMI, F1-ma, F1-mi, Prec-ma, Prec-mi, ARI, Recall-ma, Recall-mi, sum]\n",
      "Index: []\n",
      "../clf_result/training_metric_vae_cora_alpha0.06_epoch70.csv\n",
      "Empty DataFrame\n",
      "Columns: [Acc, NMI, F1-ma, F1-mi, Prec-ma, Prec-mi, ARI, Recall-ma, Recall-mi, sum]\n",
      "Index: []\n"
     ]
    }
   ],
   "source": [
    "import os\n",
    "import pandas as pd\n",
    "\n",
    "file_path = \"../clf_result/\"\n",
    "all_txt = os.listdir(file_path)\n",
    "for txt_name in all_txt:\n",
    "    if \"vae\" in txt_name and \"cora\" in txt_name:\n",
    "        f(file_path + txt_name, print_line=2)"
   ]
  },
  {
   "cell_type": "code",
   "execution_count": 19,
   "metadata": {},
   "outputs": [
    {
     "name": "stdout",
     "output_type": "stream",
     "text": [
      "training_metric_vae_cora_alpha0.01_epoch70.csv\n",
      "0.752\n",
      "training_metric_vae_cora_alpha0.08_epoch70.csv\n",
      "0.75\n",
      "training_metric_vae_cora_alpha0.1_epoch70.csv\n",
      "0.756\n",
      "training_metric_vae_cora_alpha0.04_epoch70.csv\n",
      "0.746\n",
      "training_metric_vae_cora_alpha0.2_epoch70.csv\n",
      "0.76\n",
      "training_metric_vae_cora_alpha0.02_epoch70.csv\n",
      "0.758\n",
      "training_metric_vae_cora_alpha0.06_epoch74.csv\n",
      "0.752\n",
      "training_metric_vae_cora_alpha0.06_epoch70.csv\n",
      "0.754\n"
     ]
    }
   ],
   "source": [
    "import os\n",
    "import pandas as pd\n",
    "\n",
    "file_path = \"../clf_result/\"\n",
    "all_csv = os.listdir(file_path)\n",
    "for csv_name in all_txt:\n",
    "    if (\"_vae_\" in csv_name) \\\n",
    "        and \"cora\" in csv_name and \"_alpha0.0_\" not in csv_name:\n",
    "        df = pd.read_csv(file_path + csv_name)\n",
    "        print(csv_name)\n",
    "        print(max(df[\"accuracy_max\"]))\n"
   ]
  }
 ],
 "metadata": {
  "kernelspec": {
   "display_name": "Python 3.9.12 ('base')",
   "language": "python",
   "name": "python3"
  },
  "language_info": {
   "codemirror_mode": {
    "name": "ipython",
    "version": 3
   },
   "file_extension": ".py",
   "mimetype": "text/x-python",
   "name": "python",
   "nbconvert_exporter": "python",
   "pygments_lexer": "ipython3",
   "version": "3.9.12"
  },
  "orig_nbformat": 4,
  "vscode": {
   "interpreter": {
    "hash": "d68f7dc01c14d996246f5720f5decdb205706d1a4d0fd87c6485bf1ef01b5d2c"
   }
  }
 },
 "nbformat": 4,
 "nbformat_minor": 2
}
