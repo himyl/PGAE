{
 "cells": [
  {
   "cell_type": "code",
   "execution_count": 4,
   "id": "15df5f53-b665-4243-9945-58baecd46235",
   "metadata": {},
   "outputs": [],
   "source": [
    "import pandas as pd\n",
    "import os"
   ]
  },
  {
   "cell_type": "code",
   "execution_count": 5,
   "id": "1b91ba2a-5243-4416-a46a-abe20f24282d",
   "metadata": {},
   "outputs": [],
   "source": [
    "def line2dict(line):\n",
    "    line = line.split(\",\")\n",
    "    line = {metric.split(\"=\")[0].strip(): round(float(metric.split(\"=\")[1].strip()), 4) for metric in line}\n",
    "    return line"
   ]
  },
  {
   "cell_type": "code",
   "execution_count": 6,
   "id": "bd730557-85af-4701-8348-bcf8bea93d0c",
   "metadata": {},
   "outputs": [],
   "source": [
    "log_dir = \"./log_wiki/\"\n",
    "all_txt = os.listdir(log_dir)\n",
    "all_txt = [_ for _ in all_txt if _.endswith(\".txt\")]\n",
    "max_metric = []\n",
    "for txt in all_txt:\n",
    "    with open(log_dir + txt, \"r\") as f:\n",
    "        log = f.read()\n",
    "    log = [x for x in log.split(\"\\n\") if len(x) > 0]\n",
    "    log = [line2dict(x) for x in log]\n",
    "    df = pd.DataFrame(log)\n",
    "    max_metric.append([txt, df[\"ACC\"].max(), df[\"NMI\"].max(), df[\"F1\"].max(), df[\"Precision\"].max(), df[\"ARI\"].max()])\n",
    "df = pd.DataFrame(max_metric)\n",
    "df.columns = [\"model\", \"acc\", \"nmi\", \"f1\", \"precision\", \"ari\"]\n",
    "df.sort_values(by=\"acc\", ascending=False, inplace=True)\n",
    "df.to_csv(\"cluster_result_csv.csv\", index=0)"
   ]
  },
  {
   "cell_type": "code",
   "execution_count": null,
   "id": "fdaebb3b-7560-4908-b398-58cb4858a447",
   "metadata": {},
   "outputs": [],
   "source": []
  }
 ],
 "metadata": {
  "kernelspec": {
   "display_name": "Python3.9",
   "language": "python",
   "name": "python3"
  },
  "language_info": {
   "codemirror_mode": {
    "name": "ipython",
    "version": 3
   },
   "file_extension": ".py",
   "mimetype": "text/x-python",
   "name": "python",
   "nbconvert_exporter": "python",
   "pygments_lexer": "ipython3",
   "version": "3.9.12"
  },
  "vscode": {
   "interpreter": {
    "hash": "d68f7dc01c14d996246f5720f5decdb205706d1a4d0fd87c6485bf1ef01b5d2c"
   }
  }
 },
 "nbformat": 4,
 "nbformat_minor": 5
}
